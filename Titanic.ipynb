{
 "cells": [
  {
   "cell_type": "code",
   "execution_count": 1,
   "id": "0c1c8492",
   "metadata": {
    "_cell_guid": "b1076dfc-b9ad-4769-8c92-a6c4dae69d19",
    "_uuid": "8f2839f25d086af736a60e9eeb907d3b93b6e0e5",
    "execution": {
     "iopub.execute_input": "2022-09-12T17:02:45.213933Z",
     "iopub.status.busy": "2022-09-12T17:02:45.213423Z",
     "iopub.status.idle": "2022-09-12T17:02:46.615476Z",
     "shell.execute_reply": "2022-09-12T17:02:46.614317Z"
    },
    "papermill": {
     "duration": 1.419711,
     "end_time": "2022-09-12T17:02:46.618602",
     "exception": false,
     "start_time": "2022-09-12T17:02:45.198891",
     "status": "completed"
    },
    "tags": []
   },
   "outputs": [],
   "source": [
    "import numpy as np\n",
    "import pandas as pd\n",
    "import seaborn as sns\n",
    "import matplotlib.pyplot as plt\n",
    "\n",
    "from sklearn.linear_model import LogisticRegression\n",
    "\n",
    "from sklearn.model_selection import train_test_split\n",
    "\n",
    "from sklearn.pipeline import Pipeline\n",
    "from sklearn.compose import ColumnTransformer\n",
    "from sklearn.preprocessing import StandardScaler, OrdinalEncoder\n",
    "from sklearn.impute import KNNImputer\n",
    "from sklearn.model_selection import GridSearchCV"
   ]
  },
  {
   "cell_type": "markdown",
   "id": "d9575b1d",
   "metadata": {
    "papermill": {
     "duration": 0.011333,
     "end_time": "2022-09-12T17:02:46.642239",
     "exception": false,
     "start_time": "2022-09-12T17:02:46.630906",
     "status": "completed"
    },
    "tags": []
   },
   "source": [
    "# **LOAD DATASETS**"
   ]
  },
  {
   "cell_type": "code",
   "execution_count": 2,
   "id": "0b942934",
   "metadata": {
    "execution": {
     "iopub.execute_input": "2022-09-12T17:02:46.668714Z",
     "iopub.status.busy": "2022-09-12T17:02:46.668262Z",
     "iopub.status.idle": "2022-09-12T17:02:46.704633Z",
     "shell.execute_reply": "2022-09-12T17:02:46.703766Z"
    },
    "papermill": {
     "duration": 0.053409,
     "end_time": "2022-09-12T17:02:46.707300",
     "exception": false,
     "start_time": "2022-09-12T17:02:46.653891",
     "status": "completed"
    },
    "tags": []
   },
   "outputs": [],
   "source": [
    "#Load datas\n",
    "train = pd.read_csv('/kaggle/input/titanic/train.csv')\n",
    "\n",
    "test = pd.read_csv('/kaggle/input/titanic/test.csv')\n",
    "\n",
    "data = train.append(test, ignore_index = True)"
   ]
  },
  {
   "cell_type": "markdown",
   "id": "9b1bbbf0",
   "metadata": {
    "papermill": {
     "duration": 0.011556,
     "end_time": "2022-09-12T17:02:46.730927",
     "exception": false,
     "start_time": "2022-09-12T17:02:46.719371",
     "status": "completed"
    },
    "tags": []
   },
   "source": [
    "# **OUR DATA**"
   ]
  },
  {
   "cell_type": "code",
   "execution_count": 3,
   "id": "8573f61f",
   "metadata": {
    "execution": {
     "iopub.execute_input": "2022-09-12T17:02:46.756779Z",
     "iopub.status.busy": "2022-09-12T17:02:46.756050Z",
     "iopub.status.idle": "2022-09-12T17:02:46.779713Z",
     "shell.execute_reply": "2022-09-12T17:02:46.778471Z"
    },
    "papermill": {
     "duration": 0.039332,
     "end_time": "2022-09-12T17:02:46.782111",
     "exception": false,
     "start_time": "2022-09-12T17:02:46.742779",
     "status": "completed"
    },
    "tags": []
   },
   "outputs": [
    {
     "name": "stdout",
     "output_type": "stream",
     "text": [
      "<class 'pandas.core.frame.DataFrame'>\n",
      "RangeIndex: 1309 entries, 0 to 1308\n",
      "Data columns (total 12 columns):\n",
      " #   Column       Non-Null Count  Dtype  \n",
      "---  ------       --------------  -----  \n",
      " 0   PassengerId  1309 non-null   int64  \n",
      " 1   Survived     891 non-null    float64\n",
      " 2   Pclass       1309 non-null   int64  \n",
      " 3   Name         1309 non-null   object \n",
      " 4   Sex          1309 non-null   object \n",
      " 5   Age          1046 non-null   float64\n",
      " 6   SibSp        1309 non-null   int64  \n",
      " 7   Parch        1309 non-null   int64  \n",
      " 8   Ticket       1309 non-null   object \n",
      " 9   Fare         1308 non-null   float64\n",
      " 10  Cabin        295 non-null    object \n",
      " 11  Embarked     1307 non-null   object \n",
      "dtypes: float64(3), int64(4), object(5)\n",
      "memory usage: 122.8+ KB\n"
     ]
    }
   ],
   "source": [
    "data.info()"
   ]
  },
  {
   "cell_type": "code",
   "execution_count": 4,
   "id": "4a55f00f",
   "metadata": {
    "execution": {
     "iopub.execute_input": "2022-09-12T17:02:46.808451Z",
     "iopub.status.busy": "2022-09-12T17:02:46.807759Z",
     "iopub.status.idle": "2022-09-12T17:02:46.819390Z",
     "shell.execute_reply": "2022-09-12T17:02:46.818575Z"
    },
    "papermill": {
     "duration": 0.02713,
     "end_time": "2022-09-12T17:02:46.821586",
     "exception": false,
     "start_time": "2022-09-12T17:02:46.794456",
     "status": "completed"
    },
    "tags": []
   },
   "outputs": [
    {
     "data": {
      "text/plain": [
       "PassengerId       0\n",
       "Survived        418\n",
       "Pclass            0\n",
       "Name              0\n",
       "Sex               0\n",
       "Age             263\n",
       "SibSp             0\n",
       "Parch             0\n",
       "Ticket            0\n",
       "Fare              1\n",
       "Cabin          1014\n",
       "Embarked          2\n",
       "dtype: int64"
      ]
     },
     "execution_count": 4,
     "metadata": {},
     "output_type": "execute_result"
    }
   ],
   "source": [
    "data.isnull().sum()"
   ]
  },
  {
   "cell_type": "code",
   "execution_count": 5,
   "id": "663d130a",
   "metadata": {
    "execution": {
     "iopub.execute_input": "2022-09-12T17:02:46.847801Z",
     "iopub.status.busy": "2022-09-12T17:02:46.847365Z",
     "iopub.status.idle": "2022-09-12T17:02:46.857279Z",
     "shell.execute_reply": "2022-09-12T17:02:46.856069Z"
    },
    "papermill": {
     "duration": 0.027746,
     "end_time": "2022-09-12T17:02:46.861586",
     "exception": false,
     "start_time": "2022-09-12T17:02:46.833840",
     "status": "completed"
    },
    "tags": []
   },
   "outputs": [
    {
     "name": "stdout",
     "output_type": "stream",
     "text": [
      "(891, 12)\n"
     ]
    },
    {
     "data": {
      "text/plain": [
       "PassengerId      0\n",
       "Survived         0\n",
       "Pclass           0\n",
       "Name             0\n",
       "Sex              0\n",
       "Age            177\n",
       "SibSp            0\n",
       "Parch            0\n",
       "Ticket           0\n",
       "Fare             0\n",
       "Cabin          687\n",
       "Embarked         2\n",
       "dtype: int64"
      ]
     },
     "execution_count": 5,
     "metadata": {},
     "output_type": "execute_result"
    }
   ],
   "source": [
    "print(train.shape)\n",
    "train.isnull().sum()"
   ]
  },
  {
   "cell_type": "markdown",
   "id": "d895a1c4",
   "metadata": {
    "papermill": {
     "duration": 0.011958,
     "end_time": "2022-09-12T17:02:46.886665",
     "exception": false,
     "start_time": "2022-09-12T17:02:46.874707",
     "status": "completed"
    },
    "tags": []
   },
   "source": [
    "We have 3 features that need to be filled in (Survival is only null in the test set -- it is what we are predicting).\n",
    "\n",
    "The only quantitative feature among the three is `Age`. This feature column can be filled by KNN.\n",
    "\n",
    "The two remaining features are both categorical. Because there are only two points of data missing for `Embarked` we can fill it in with the mode of the feature column. For `Cabin`, however, we are missing many data points: ~75% of our training data is missing Cabin and ~50% of our total data is missing Cabin. Instead of filling each missing value with the mode, we will create a seperate category for all missing values. We can also simply remove the whole feature. This is to be decided after our data analysis."
   ]
  },
  {
   "cell_type": "code",
   "execution_count": 6,
   "id": "2b7e62d7",
   "metadata": {
    "execution": {
     "iopub.execute_input": "2022-09-12T17:02:46.912901Z",
     "iopub.status.busy": "2022-09-12T17:02:46.912499Z",
     "iopub.status.idle": "2022-09-12T17:02:46.934058Z",
     "shell.execute_reply": "2022-09-12T17:02:46.932884Z"
    },
    "papermill": {
     "duration": 0.037617,
     "end_time": "2022-09-12T17:02:46.936571",
     "exception": false,
     "start_time": "2022-09-12T17:02:46.898954",
     "status": "completed"
    },
    "tags": []
   },
   "outputs": [
    {
     "data": {
      "text/html": [
       "<div>\n",
       "<style scoped>\n",
       "    .dataframe tbody tr th:only-of-type {\n",
       "        vertical-align: middle;\n",
       "    }\n",
       "\n",
       "    .dataframe tbody tr th {\n",
       "        vertical-align: top;\n",
       "    }\n",
       "\n",
       "    .dataframe thead th {\n",
       "        text-align: right;\n",
       "    }\n",
       "</style>\n",
       "<table border=\"1\" class=\"dataframe\">\n",
       "  <thead>\n",
       "    <tr style=\"text-align: right;\">\n",
       "      <th></th>\n",
       "      <th>PassengerId</th>\n",
       "      <th>Survived</th>\n",
       "      <th>Pclass</th>\n",
       "      <th>Name</th>\n",
       "      <th>Sex</th>\n",
       "      <th>Age</th>\n",
       "      <th>SibSp</th>\n",
       "      <th>Parch</th>\n",
       "      <th>Ticket</th>\n",
       "      <th>Fare</th>\n",
       "      <th>Cabin</th>\n",
       "      <th>Embarked</th>\n",
       "    </tr>\n",
       "  </thead>\n",
       "  <tbody>\n",
       "    <tr>\n",
       "      <th>0</th>\n",
       "      <td>1</td>\n",
       "      <td>0.0</td>\n",
       "      <td>3</td>\n",
       "      <td>Braund, Mr. Owen Harris</td>\n",
       "      <td>male</td>\n",
       "      <td>22.0</td>\n",
       "      <td>1</td>\n",
       "      <td>0</td>\n",
       "      <td>A/5 21171</td>\n",
       "      <td>7.2500</td>\n",
       "      <td>NaN</td>\n",
       "      <td>S</td>\n",
       "    </tr>\n",
       "    <tr>\n",
       "      <th>1</th>\n",
       "      <td>2</td>\n",
       "      <td>1.0</td>\n",
       "      <td>1</td>\n",
       "      <td>Cumings, Mrs. John Bradley (Florence Briggs Th...</td>\n",
       "      <td>female</td>\n",
       "      <td>38.0</td>\n",
       "      <td>1</td>\n",
       "      <td>0</td>\n",
       "      <td>PC 17599</td>\n",
       "      <td>71.2833</td>\n",
       "      <td>C85</td>\n",
       "      <td>C</td>\n",
       "    </tr>\n",
       "    <tr>\n",
       "      <th>2</th>\n",
       "      <td>3</td>\n",
       "      <td>1.0</td>\n",
       "      <td>3</td>\n",
       "      <td>Heikkinen, Miss. Laina</td>\n",
       "      <td>female</td>\n",
       "      <td>26.0</td>\n",
       "      <td>0</td>\n",
       "      <td>0</td>\n",
       "      <td>STON/O2. 3101282</td>\n",
       "      <td>7.9250</td>\n",
       "      <td>NaN</td>\n",
       "      <td>S</td>\n",
       "    </tr>\n",
       "    <tr>\n",
       "      <th>3</th>\n",
       "      <td>4</td>\n",
       "      <td>1.0</td>\n",
       "      <td>1</td>\n",
       "      <td>Futrelle, Mrs. Jacques Heath (Lily May Peel)</td>\n",
       "      <td>female</td>\n",
       "      <td>35.0</td>\n",
       "      <td>1</td>\n",
       "      <td>0</td>\n",
       "      <td>113803</td>\n",
       "      <td>53.1000</td>\n",
       "      <td>C123</td>\n",
       "      <td>S</td>\n",
       "    </tr>\n",
       "    <tr>\n",
       "      <th>4</th>\n",
       "      <td>5</td>\n",
       "      <td>0.0</td>\n",
       "      <td>3</td>\n",
       "      <td>Allen, Mr. William Henry</td>\n",
       "      <td>male</td>\n",
       "      <td>35.0</td>\n",
       "      <td>0</td>\n",
       "      <td>0</td>\n",
       "      <td>373450</td>\n",
       "      <td>8.0500</td>\n",
       "      <td>NaN</td>\n",
       "      <td>S</td>\n",
       "    </tr>\n",
       "  </tbody>\n",
       "</table>\n",
       "</div>"
      ],
      "text/plain": [
       "   PassengerId  Survived  Pclass  \\\n",
       "0            1       0.0       3   \n",
       "1            2       1.0       1   \n",
       "2            3       1.0       3   \n",
       "3            4       1.0       1   \n",
       "4            5       0.0       3   \n",
       "\n",
       "                                                Name     Sex   Age  SibSp  \\\n",
       "0                            Braund, Mr. Owen Harris    male  22.0      1   \n",
       "1  Cumings, Mrs. John Bradley (Florence Briggs Th...  female  38.0      1   \n",
       "2                             Heikkinen, Miss. Laina  female  26.0      0   \n",
       "3       Futrelle, Mrs. Jacques Heath (Lily May Peel)  female  35.0      1   \n",
       "4                           Allen, Mr. William Henry    male  35.0      0   \n",
       "\n",
       "   Parch            Ticket     Fare Cabin Embarked  \n",
       "0      0         A/5 21171   7.2500   NaN        S  \n",
       "1      0          PC 17599  71.2833   C85        C  \n",
       "2      0  STON/O2. 3101282   7.9250   NaN        S  \n",
       "3      0            113803  53.1000  C123        S  \n",
       "4      0            373450   8.0500   NaN        S  "
      ]
     },
     "execution_count": 6,
     "metadata": {},
     "output_type": "execute_result"
    }
   ],
   "source": [
    "data.head()"
   ]
  },
  {
   "cell_type": "code",
   "execution_count": 7,
   "id": "05bac721",
   "metadata": {
    "execution": {
     "iopub.execute_input": "2022-09-12T17:02:46.964046Z",
     "iopub.status.busy": "2022-09-12T17:02:46.963579Z",
     "iopub.status.idle": "2022-09-12T17:02:46.999048Z",
     "shell.execute_reply": "2022-09-12T17:02:46.997925Z"
    },
    "papermill": {
     "duration": 0.052252,
     "end_time": "2022-09-12T17:02:47.001731",
     "exception": false,
     "start_time": "2022-09-12T17:02:46.949479",
     "status": "completed"
    },
    "tags": []
   },
   "outputs": [
    {
     "data": {
      "text/html": [
       "<div>\n",
       "<style scoped>\n",
       "    .dataframe tbody tr th:only-of-type {\n",
       "        vertical-align: middle;\n",
       "    }\n",
       "\n",
       "    .dataframe tbody tr th {\n",
       "        vertical-align: top;\n",
       "    }\n",
       "\n",
       "    .dataframe thead th {\n",
       "        text-align: right;\n",
       "    }\n",
       "</style>\n",
       "<table border=\"1\" class=\"dataframe\">\n",
       "  <thead>\n",
       "    <tr style=\"text-align: right;\">\n",
       "      <th></th>\n",
       "      <th>PassengerId</th>\n",
       "      <th>Survived</th>\n",
       "      <th>Pclass</th>\n",
       "      <th>Age</th>\n",
       "      <th>SibSp</th>\n",
       "      <th>Parch</th>\n",
       "      <th>Fare</th>\n",
       "    </tr>\n",
       "  </thead>\n",
       "  <tbody>\n",
       "    <tr>\n",
       "      <th>count</th>\n",
       "      <td>1309.000000</td>\n",
       "      <td>891.000000</td>\n",
       "      <td>1309.000000</td>\n",
       "      <td>1046.000000</td>\n",
       "      <td>1309.000000</td>\n",
       "      <td>1309.000000</td>\n",
       "      <td>1308.000000</td>\n",
       "    </tr>\n",
       "    <tr>\n",
       "      <th>mean</th>\n",
       "      <td>655.000000</td>\n",
       "      <td>0.383838</td>\n",
       "      <td>2.294882</td>\n",
       "      <td>29.881138</td>\n",
       "      <td>0.498854</td>\n",
       "      <td>0.385027</td>\n",
       "      <td>33.295479</td>\n",
       "    </tr>\n",
       "    <tr>\n",
       "      <th>std</th>\n",
       "      <td>378.020061</td>\n",
       "      <td>0.486592</td>\n",
       "      <td>0.837836</td>\n",
       "      <td>14.413493</td>\n",
       "      <td>1.041658</td>\n",
       "      <td>0.865560</td>\n",
       "      <td>51.758668</td>\n",
       "    </tr>\n",
       "    <tr>\n",
       "      <th>min</th>\n",
       "      <td>1.000000</td>\n",
       "      <td>0.000000</td>\n",
       "      <td>1.000000</td>\n",
       "      <td>0.170000</td>\n",
       "      <td>0.000000</td>\n",
       "      <td>0.000000</td>\n",
       "      <td>0.000000</td>\n",
       "    </tr>\n",
       "    <tr>\n",
       "      <th>25%</th>\n",
       "      <td>328.000000</td>\n",
       "      <td>0.000000</td>\n",
       "      <td>2.000000</td>\n",
       "      <td>21.000000</td>\n",
       "      <td>0.000000</td>\n",
       "      <td>0.000000</td>\n",
       "      <td>7.895800</td>\n",
       "    </tr>\n",
       "    <tr>\n",
       "      <th>50%</th>\n",
       "      <td>655.000000</td>\n",
       "      <td>0.000000</td>\n",
       "      <td>3.000000</td>\n",
       "      <td>28.000000</td>\n",
       "      <td>0.000000</td>\n",
       "      <td>0.000000</td>\n",
       "      <td>14.454200</td>\n",
       "    </tr>\n",
       "    <tr>\n",
       "      <th>75%</th>\n",
       "      <td>982.000000</td>\n",
       "      <td>1.000000</td>\n",
       "      <td>3.000000</td>\n",
       "      <td>39.000000</td>\n",
       "      <td>1.000000</td>\n",
       "      <td>0.000000</td>\n",
       "      <td>31.275000</td>\n",
       "    </tr>\n",
       "    <tr>\n",
       "      <th>max</th>\n",
       "      <td>1309.000000</td>\n",
       "      <td>1.000000</td>\n",
       "      <td>3.000000</td>\n",
       "      <td>80.000000</td>\n",
       "      <td>8.000000</td>\n",
       "      <td>9.000000</td>\n",
       "      <td>512.329200</td>\n",
       "    </tr>\n",
       "  </tbody>\n",
       "</table>\n",
       "</div>"
      ],
      "text/plain": [
       "       PassengerId    Survived       Pclass          Age        SibSp  \\\n",
       "count  1309.000000  891.000000  1309.000000  1046.000000  1309.000000   \n",
       "mean    655.000000    0.383838     2.294882    29.881138     0.498854   \n",
       "std     378.020061    0.486592     0.837836    14.413493     1.041658   \n",
       "min       1.000000    0.000000     1.000000     0.170000     0.000000   \n",
       "25%     328.000000    0.000000     2.000000    21.000000     0.000000   \n",
       "50%     655.000000    0.000000     3.000000    28.000000     0.000000   \n",
       "75%     982.000000    1.000000     3.000000    39.000000     1.000000   \n",
       "max    1309.000000    1.000000     3.000000    80.000000     8.000000   \n",
       "\n",
       "             Parch         Fare  \n",
       "count  1309.000000  1308.000000  \n",
       "mean      0.385027    33.295479  \n",
       "std       0.865560    51.758668  \n",
       "min       0.000000     0.000000  \n",
       "25%       0.000000     7.895800  \n",
       "50%       0.000000    14.454200  \n",
       "75%       0.000000    31.275000  \n",
       "max       9.000000   512.329200  "
      ]
     },
     "execution_count": 7,
     "metadata": {},
     "output_type": "execute_result"
    }
   ],
   "source": [
    "data.describe()"
   ]
  },
  {
   "cell_type": "markdown",
   "id": "e68df8d6",
   "metadata": {
    "papermill": {
     "duration": 0.012585,
     "end_time": "2022-09-12T17:02:47.027212",
     "exception": false,
     "start_time": "2022-09-12T17:02:47.014627",
     "status": "completed"
    },
    "tags": []
   },
   "source": [
    "# **EXPLORATORY DATA ANALYSIS**"
   ]
  },
  {
   "cell_type": "code",
   "execution_count": 8,
   "id": "bffe0273",
   "metadata": {
    "execution": {
     "iopub.execute_input": "2022-09-12T17:02:47.055070Z",
     "iopub.status.busy": "2022-09-12T17:02:47.054677Z",
     "iopub.status.idle": "2022-09-12T17:02:47.442257Z",
     "shell.execute_reply": "2022-09-12T17:02:47.441068Z"
    },
    "papermill": {
     "duration": 0.404726,
     "end_time": "2022-09-12T17:02:47.444662",
     "exception": false,
     "start_time": "2022-09-12T17:02:47.039936",
     "status": "completed"
    },
    "tags": []
   },
   "outputs": [
    {
     "data": {
      "text/plain": [
       "<seaborn.axisgrid.FacetGrid at 0x7f668c32d7d0>"
      ]
     },
     "execution_count": 8,
     "metadata": {},
     "output_type": "execute_result"
    },
    {
     "data": {
      "image/png": "[encoded data removed]",
      "text/plain": [
       "<Figure size 402.375x360 with 1 Axes>"
      ]
     },
     "metadata": {
      "needs_background": "light"
     },
     "output_type": "display_data"
    }
   ],
   "source": [
    "sns.catplot(data = data, x = 'Survived', kind = 'count', \n",
    "            hue = 'Pclass')"
   ]
  },
  {
   "cell_type": "code",
   "execution_count": 9,
   "id": "78a11c3b",
   "metadata": {
    "execution": {
     "iopub.execute_input": "2022-09-12T17:02:47.472736Z",
     "iopub.status.busy": "2022-09-12T17:02:47.471747Z",
     "iopub.status.idle": "2022-09-12T17:02:48.333865Z",
     "shell.execute_reply": "2022-09-12T17:02:48.332632Z"
    },
    "papermill": {
     "duration": 0.878854,
     "end_time": "2022-09-12T17:02:48.336423",
     "exception": false,
     "start_time": "2022-09-12T17:02:47.457569",
     "status": "completed"
    },
    "tags": []
   },
   "outputs": [
    {
     "data": {
      "text/plain": [
       "<seaborn.axisgrid.FacetGrid at 0x7f668a2916d0>"
      ]
     },
     "execution_count": 9,
     "metadata": {},
     "output_type": "execute_result"
    },
    {
     "data": {
      "image/png": "[encoded data removed]",
      "text/plain": [
       "<Figure size 411.875x360 with 1 Axes>"
      ]
     },
     "metadata": {
      "needs_background": "light"
     },
     "output_type": "display_data"
    }
   ],
   "source": [
    "sns.catplot(data = data, x = 'Age', y = 'Sex', kind = 'swarm', \n",
    "            hue = 'Survived')"
   ]
  },
  {
   "cell_type": "code",
   "execution_count": 10,
   "id": "24379f3c",
   "metadata": {
    "execution": {
     "iopub.execute_input": "2022-09-12T17:02:48.367115Z",
     "iopub.status.busy": "2022-09-12T17:02:48.366705Z",
     "iopub.status.idle": "2022-09-12T17:02:48.739728Z",
     "shell.execute_reply": "2022-09-12T17:02:48.738490Z"
    },
    "papermill": {
     "duration": 0.391284,
     "end_time": "2022-09-12T17:02:48.742320",
     "exception": false,
     "start_time": "2022-09-12T17:02:48.351036",
     "status": "completed"
    },
    "tags": []
   },
   "outputs": [
    {
     "data": {
      "text/plain": [
       "<AxesSubplot:xlabel='Age', ylabel='Count'>"
      ]
     },
     "execution_count": 10,
     "metadata": {},
     "output_type": "execute_result"
    },
    {
     "data": {
      "image/png": "[encoded data removed]",
      "text/plain": [
       "<Figure size 432x288 with 1 Axes>"
      ]
     },
     "metadata": {
      "needs_background": "light"
     },
     "output_type": "display_data"
    }
   ],
   "source": [
    "sns.histplot(data = data, x = 'Age', hue = 'Survived', kde = True, multiple = 'stack')"
   ]
  },
  {
   "cell_type": "code",
   "execution_count": 11,
   "id": "cfcb4869",
   "metadata": {
    "execution": {
     "iopub.execute_input": "2022-09-12T17:02:48.774362Z",
     "iopub.status.busy": "2022-09-12T17:02:48.773932Z",
     "iopub.status.idle": "2022-09-12T17:02:49.162419Z",
     "shell.execute_reply": "2022-09-12T17:02:49.161317Z"
    },
    "papermill": {
     "duration": 0.407009,
     "end_time": "2022-09-12T17:02:49.164854",
     "exception": false,
     "start_time": "2022-09-12T17:02:48.757845",
     "status": "completed"
    },
    "tags": []
   },
   "outputs": [
    {
     "data": {
      "text/plain": [
       "<AxesSubplot:xlabel='Age', ylabel='Count'>"
      ]
     },
     "execution_count": 11,
     "metadata": {},
     "output_type": "execute_result"
    },
    {
     "data": {
      "image/png": "[encoded data removed]",
      "text/plain": [
       "<Figure size 432x288 with 1 Axes>"
      ]
     },
     "metadata": {
      "needs_background": "light"
     },
     "output_type": "display_data"
    }
   ],
   "source": [
    "sns.histplot(data = data, x = 'Age', hue = 'Sex', kde = True, multiple = 'stack')"
   ]
  },
  {
   "cell_type": "markdown",
   "id": "bbf4ce37",
   "metadata": {
    "papermill": {
     "duration": 0.014535,
     "end_time": "2022-09-12T17:02:49.194457",
     "exception": false,
     "start_time": "2022-09-12T17:02:49.179922",
     "status": "completed"
    },
    "tags": []
   },
   "source": [
    "Male children are much more likely to survive compared to male adults -- a fact that can be attributed to the use of life boats. Female children, on the other hand, do not have an increased survival rate when young; females and children borded together.\n",
    "\n",
    "Females had a much greater survival rate as opposed to men."
   ]
  },
  {
   "cell_type": "code",
   "execution_count": 12,
   "id": "a1237d65",
   "metadata": {
    "execution": {
     "iopub.execute_input": "2022-09-12T17:02:49.226830Z",
     "iopub.status.busy": "2022-09-12T17:02:49.225747Z",
     "iopub.status.idle": "2022-09-12T17:02:49.608504Z",
     "shell.execute_reply": "2022-09-12T17:02:49.607725Z"
    },
    "papermill": {
     "duration": 0.401308,
     "end_time": "2022-09-12T17:02:49.610577",
     "exception": false,
     "start_time": "2022-09-12T17:02:49.209269",
     "status": "completed"
    },
    "tags": []
   },
   "outputs": [
    {
     "data": {
      "text/plain": [
       "<seaborn.axisgrid.FacetGrid at 0x7f6688778dd0>"
      ]
     },
     "execution_count": 12,
     "metadata": {},
     "output_type": "execute_result"
    },
    {
     "data": {
      "image/png": "[encoded data removed]",
      "text/plain": [
       "<Figure size 402.375x360 with 1 Axes>"
      ]
     },
     "metadata": {
      "needs_background": "light"
     },
     "output_type": "display_data"
    }
   ],
   "source": [
    "sns.catplot(data = data, x = 'Survived', kind = 'count', \n",
    "            hue = 'Parch')"
   ]
  },
  {
   "cell_type": "markdown",
   "id": "ed052f2a",
   "metadata": {
    "papermill": {
     "duration": 0.014774,
     "end_time": "2022-09-12T17:02:49.640620",
     "exception": false,
     "start_time": "2022-09-12T17:02:49.625846",
     "status": "completed"
    },
    "tags": []
   },
   "source": [
    "Having a child/parent seems to increase the survival rates -- people may be more motivated to survive if they have a family member on board.\n",
    "\n",
    "Some of the increase in survival rates can also be attributed to the fact that young children are generally the passengers who would also have their parents on board. Children were the first to board lifeboats and, thus, have a higher survival rate compared to men (Children do seem to have a lower survival rate than women, a fact that may be attributed to their weaker bodies).\n",
    "\n",
    "There are too few data points to make any conclusions about survival rates of families with large amounts of children."
   ]
  },
  {
   "cell_type": "code",
   "execution_count": 13,
   "id": "6a4e2949",
   "metadata": {
    "execution": {
     "iopub.execute_input": "2022-09-12T17:02:49.673058Z",
     "iopub.status.busy": "2022-09-12T17:02:49.672204Z",
     "iopub.status.idle": "2022-09-12T17:02:50.071787Z",
     "shell.execute_reply": "2022-09-12T17:02:50.070745Z"
    },
    "papermill": {
     "duration": 0.418444,
     "end_time": "2022-09-12T17:02:50.074199",
     "exception": false,
     "start_time": "2022-09-12T17:02:49.655755",
     "status": "completed"
    },
    "tags": []
   },
   "outputs": [
    {
     "data": {
      "text/plain": [
       "<seaborn.axisgrid.FacetGrid at 0x7f6688749110>"
      ]
     },
     "execution_count": 13,
     "metadata": {},
     "output_type": "execute_result"
    },
    {
     "data": {
      "image/png": "[encoded data removed]",
      "text/plain": [
       "<Figure size 402.375x360 with 1 Axes>"
      ]
     },
     "metadata": {
      "needs_background": "light"
     },
     "output_type": "display_data"
    }
   ],
   "source": [
    "sns.catplot(data = data, x = 'Survived', kind = 'count', \n",
    "            hue = 'SibSp')"
   ]
  },
  {
   "cell_type": "markdown",
   "id": "d3b722db",
   "metadata": {
    "papermill": {
     "duration": 0.015161,
     "end_time": "2022-09-12T17:02:50.104962",
     "exception": false,
     "start_time": "2022-09-12T17:02:50.089801",
     "status": "completed"
    },
    "tags": []
   },
   "source": [
    "Similar to having a parent/child on board, passengers with a spouse/sibling are more likely to survive."
   ]
  },
  {
   "cell_type": "code",
   "execution_count": 14,
   "id": "bc6b7693",
   "metadata": {
    "execution": {
     "iopub.execute_input": "2022-09-12T17:02:50.138024Z",
     "iopub.status.busy": "2022-09-12T17:02:50.137619Z",
     "iopub.status.idle": "2022-09-12T17:02:50.805184Z",
     "shell.execute_reply": "2022-09-12T17:02:50.803947Z"
    },
    "papermill": {
     "duration": 0.687155,
     "end_time": "2022-09-12T17:02:50.807767",
     "exception": false,
     "start_time": "2022-09-12T17:02:50.120612",
     "status": "completed"
    },
    "tags": []
   },
   "outputs": [
    {
     "name": "stdout",
     "output_type": "stream",
     "text": [
      "MALE\n"
     ]
    },
    {
     "data": {
      "image/png": "[encoded data removed]",
      "text/plain": [
       "<Figure size 432x288 with 1 Axes>"
      ]
     },
     "metadata": {
      "needs_background": "light"
     },
     "output_type": "display_data"
    }
   ],
   "source": [
    "print('MALE')\n",
    "sns.histplot(data = train[train['Sex'] == 'male'], x = 'Fare', binwidth = 5, hue = 'Survived', kde = True, multiple = 'stack').set_xlim(0,175);"
   ]
  },
  {
   "cell_type": "code",
   "execution_count": 15,
   "id": "60a9f719",
   "metadata": {
    "execution": {
     "iopub.execute_input": "2022-09-12T17:02:50.842991Z",
     "iopub.status.busy": "2022-09-12T17:02:50.842572Z",
     "iopub.status.idle": "2022-09-12T17:02:51.697343Z",
     "shell.execute_reply": "2022-09-12T17:02:51.696166Z"
    },
    "papermill": {
     "duration": 0.874886,
     "end_time": "2022-09-12T17:02:51.699719",
     "exception": false,
     "start_time": "2022-09-12T17:02:50.824833",
     "status": "completed"
    },
    "tags": []
   },
   "outputs": [
    {
     "name": "stdout",
     "output_type": "stream",
     "text": [
      "FEMALE\n"
     ]
    },
    {
     "data": {
      "image/png": "[encoded data removed]",
      "text/plain": [
       "<Figure size 432x288 with 1 Axes>"
      ]
     },
     "metadata": {
      "needs_background": "light"
     },
     "output_type": "display_data"
    }
   ],
   "source": [
    "print('FEMALE')\n",
    "sns.histplot(data = train[train['Sex'] == 'female'], x = 'Fare', binwidth = 5, hue = 'Survived', kde = True, multiple = 'stack').set_xlim(0,175);"
   ]
  },
  {
   "cell_type": "markdown",
   "id": "36a69535",
   "metadata": {
    "papermill": {
     "duration": 0.016831,
     "end_time": "2022-09-12T17:02:51.733376",
     "exception": false,
     "start_time": "2022-09-12T17:02:51.716545",
     "status": "completed"
    },
    "tags": []
   },
   "source": [
    "Male survivors appear to remain constant through the classes. However, their survival rates do increase as there are less men with high fare prices than low fare prices. Nearly all men with fare prices less than \\$25 died.\n",
    "\n",
    "Female survivors are common at all fare levels. However, at low fares women had a considerable amount of deaths. At the upper end of fare prices there are close to 0 women who died."
   ]
  },
  {
   "cell_type": "code",
   "execution_count": 16,
   "id": "b92c58a4",
   "metadata": {
    "execution": {
     "iopub.execute_input": "2022-09-12T17:02:51.768536Z",
     "iopub.status.busy": "2022-09-12T17:02:51.767718Z",
     "iopub.status.idle": "2022-09-12T17:02:51.778044Z",
     "shell.execute_reply": "2022-09-12T17:02:51.776731Z"
    },
    "papermill": {
     "duration": 0.030634,
     "end_time": "2022-09-12T17:02:51.780417",
     "exception": false,
     "start_time": "2022-09-12T17:02:51.749783",
     "status": "completed"
    },
    "tags": []
   },
   "outputs": [
    {
     "name": "stdout",
     "output_type": "stream",
     "text": [
      "Survival Rate(Missing Cabin):  0.20315581854043394\n",
      "Survival Rate(W/ Cabin):  0.4610169491525424\n"
     ]
    }
   ],
   "source": [
    "print('Survival Rate(Missing Cabin): ', (data[data['Cabin'].isnull()]['Survived'].sum()) / (data[data['Cabin'].isnull()].shape[0]))\n",
    "print('Survival Rate(W/ Cabin): ', (data[data['Cabin'].notnull()]['Survived'].sum()) / (data[data['Cabin'].notnull()].shape[0]))"
   ]
  },
  {
   "cell_type": "markdown",
   "id": "f4dd88c9",
   "metadata": {
    "papermill": {
     "duration": 0.016976,
     "end_time": "2022-09-12T17:02:51.814294",
     "exception": false,
     "start_time": "2022-09-12T17:02:51.797318",
     "status": "completed"
    },
    "tags": []
   },
   "source": [
    "Simply removing `Cabin` would be a loss in data -- there appears to be a sizable bias in the way `Cabin` features were missing. Instead we will be filling all missing cabins with a seperate category.\n",
    "\n",
    "\\*The bias may be because important people would not have been neglected by the bookeepers. This would mean many of the rich people have their cabin numbers. It is only the less significant people that may have been neglected by book keepers."
   ]
  },
  {
   "cell_type": "code",
   "execution_count": 17,
   "id": "fd7c596f",
   "metadata": {
    "execution": {
     "iopub.execute_input": "2022-09-12T17:02:51.849564Z",
     "iopub.status.busy": "2022-09-12T17:02:51.848539Z",
     "iopub.status.idle": "2022-09-12T17:02:51.856354Z",
     "shell.execute_reply": "2022-09-12T17:02:51.855556Z"
    },
    "papermill": {
     "duration": 0.02771,
     "end_time": "2022-09-12T17:02:51.858563",
     "exception": false,
     "start_time": "2022-09-12T17:02:51.830853",
     "status": "completed"
    },
    "tags": []
   },
   "outputs": [],
   "source": [
    "data_not_null_cabin = data[data.loc[:,'Cabin'].notnull()].copy().reset_index()\n",
    "data_not_null_cabin['Cabin'] = data_not_null_cabin['Cabin'].str[:1]"
   ]
  },
  {
   "cell_type": "code",
   "execution_count": 18,
   "id": "a79d26eb",
   "metadata": {
    "execution": {
     "iopub.execute_input": "2022-09-12T17:02:51.893675Z",
     "iopub.status.busy": "2022-09-12T17:02:51.893243Z",
     "iopub.status.idle": "2022-09-12T17:02:52.301352Z",
     "shell.execute_reply": "2022-09-12T17:02:52.300038Z"
    },
    "papermill": {
     "duration": 0.428618,
     "end_time": "2022-09-12T17:02:52.303876",
     "exception": false,
     "start_time": "2022-09-12T17:02:51.875258",
     "status": "completed"
    },
    "tags": []
   },
   "outputs": [
    {
     "data": {
      "text/plain": [
       "<seaborn.axisgrid.FacetGrid at 0x7f66884a4310>"
      ]
     },
     "execution_count": 18,
     "metadata": {},
     "output_type": "execute_result"
    },
    {
     "data": {
      "image/png": "[encoded data removed]",
      "text/plain": [
       "<Figure size 403.75x360 with 1 Axes>"
      ]
     },
     "metadata": {
      "needs_background": "light"
     },
     "output_type": "display_data"
    }
   ],
   "source": [
    "sns.catplot(data = data_not_null_cabin, x = 'Survived', kind = 'count', \n",
    "            hue = 'Cabin')"
   ]
  },
  {
   "cell_type": "markdown",
   "id": "0ee8d4de",
   "metadata": {
    "papermill": {
     "duration": 0.016535,
     "end_time": "2022-09-12T17:02:52.337874",
     "exception": false,
     "start_time": "2022-09-12T17:02:52.321339",
     "status": "completed"
    },
    "tags": []
   },
   "source": [
    "Certain 'Cabin' letters have better survival rates than others. For example, around the same amount of people died from cabin B and cabin C. However, cabin C had more people.\n",
    "\n",
    "This may be caused by the peoples' proximity to the lifeboats. Levels closer to the top of the boat appear to have higher survival rates."
   ]
  },
  {
   "cell_type": "code",
   "execution_count": 19,
   "id": "99e94485",
   "metadata": {
    "execution": {
     "iopub.execute_input": "2022-09-12T17:02:52.373665Z",
     "iopub.status.busy": "2022-09-12T17:02:52.373252Z",
     "iopub.status.idle": "2022-09-12T17:02:53.577569Z",
     "shell.execute_reply": "2022-09-12T17:02:53.576669Z"
    },
    "papermill": {
     "duration": 1.224661,
     "end_time": "2022-09-12T17:02:53.579879",
     "exception": false,
     "start_time": "2022-09-12T17:02:52.355218",
     "status": "completed"
    },
    "tags": []
   },
   "outputs": [
    {
     "data": {
      "text/plain": [
       "<seaborn.axisgrid.FacetGrid at 0x7f668830f850>"
      ]
     },
     "execution_count": 19,
     "metadata": {},
     "output_type": "execute_result"
    },
    {
     "data": {
      "image/png": "[encoded data removed]",
      "text/plain": [
       "<Figure size 790.5x1080 with 3 Axes>"
      ]
     },
     "metadata": {
      "needs_background": "light"
     },
     "output_type": "display_data"
    }
   ],
   "source": [
    "gender_survival_over_embark = sns.FacetGrid(data = data, row = 'Embarked', height = 5, aspect = 2)\n",
    "gender_survival_over_embark.map(sns.pointplot, 'Pclass', 'Survived', 'Sex', hue_order = None, order = None)\n",
    "gender_survival_over_embark.add_legend()"
   ]
  },
  {
   "cell_type": "markdown",
   "id": "480b52fc",
   "metadata": {
    "papermill": {
     "duration": 0.017974,
     "end_time": "2022-09-12T17:02:53.616050",
     "exception": false,
     "start_time": "2022-09-12T17:02:53.598076",
     "status": "completed"
    },
    "tags": []
   },
   "source": [
    "Passengers with a specific combination of `Embarked` and `Pclass` seem to have very high survival rates. Some on the other hand had very low survival rates.\n",
    "\n",
    "Notice how close to no males who embarked from `C` died if they were first or second class. However, first class passengers who embarked at `Q` had close to nill chances of survival.\n",
    "\n",
    "For females on `Q` on the other hand, nearly no first and second class passengers died."
   ]
  },
  {
   "cell_type": "code",
   "execution_count": 20,
   "id": "c11f23d6",
   "metadata": {
    "execution": {
     "iopub.execute_input": "2022-09-12T17:02:53.654183Z",
     "iopub.status.busy": "2022-09-12T17:02:53.653767Z",
     "iopub.status.idle": "2022-09-12T17:02:53.666160Z",
     "shell.execute_reply": "2022-09-12T17:02:53.665125Z"
    },
    "papermill": {
     "duration": 0.034384,
     "end_time": "2022-09-12T17:02:53.668653",
     "exception": false,
     "start_time": "2022-09-12T17:02:53.634269",
     "status": "completed"
    },
    "tags": []
   },
   "outputs": [],
   "source": [
    "data['Name'] = data['Name'].str.split('.').str[0].str.split().str[-1]"
   ]
  },
  {
   "cell_type": "markdown",
   "id": "ea73b9a6",
   "metadata": {
    "papermill": {
     "duration": 0.017805,
     "end_time": "2022-09-12T17:02:53.704642",
     "exception": false,
     "start_time": "2022-09-12T17:02:53.686837",
     "status": "completed"
    },
    "tags": []
   },
   "source": [
    "Your name is not going to save you from death -- people named Jim will not have a lower likelihood of dying from hypothermia. However, the surname may provide additional information not available."
   ]
  },
  {
   "cell_type": "code",
   "execution_count": 21,
   "id": "499d9e67",
   "metadata": {
    "execution": {
     "iopub.execute_input": "2022-09-12T17:02:53.742509Z",
     "iopub.status.busy": "2022-09-12T17:02:53.742124Z",
     "iopub.status.idle": "2022-09-12T17:02:54.284550Z",
     "shell.execute_reply": "2022-09-12T17:02:54.283406Z"
    },
    "papermill": {
     "duration": 0.564538,
     "end_time": "2022-09-12T17:02:54.287152",
     "exception": false,
     "start_time": "2022-09-12T17:02:53.722614",
     "status": "completed"
    },
    "tags": []
   },
   "outputs": [
    {
     "data": {
      "text/plain": [
       "<seaborn.axisgrid.FacetGrid at 0x7f668a2913d0>"
      ]
     },
     "execution_count": 21,
     "metadata": {},
     "output_type": "execute_result"
    },
    {
     "data": {
      "image/png": "[encoded data removed]",
      "text/plain": [
       "<Figure size 442.125x360 with 1 Axes>"
      ]
     },
     "metadata": {
      "needs_background": "light"
     },
     "output_type": "display_data"
    }
   ],
   "source": [
    "sns.catplot(data = data, x = 'Survived', kind = 'count', \n",
    "            hue = 'Name')"
   ]
  },
  {
   "cell_type": "markdown",
   "id": "37b0e0d9",
   "metadata": {
    "papermill": {
     "duration": 0.018077,
     "end_time": "2022-09-12T17:02:54.323716",
     "exception": false,
     "start_time": "2022-09-12T17:02:54.305639",
     "status": "completed"
    },
    "tags": []
   },
   "source": [
    "Immediatly we can see this graph verify many of our previous observations. Men are very unlikely to survive. Married women (Mrs.) are more likely to survive than not married women (Miss.)."
   ]
  },
  {
   "cell_type": "code",
   "execution_count": 22,
   "id": "3211e770",
   "metadata": {
    "execution": {
     "iopub.execute_input": "2022-09-12T17:02:54.362803Z",
     "iopub.status.busy": "2022-09-12T17:02:54.361849Z",
     "iopub.status.idle": "2022-09-12T17:02:55.406644Z",
     "shell.execute_reply": "2022-09-12T17:02:55.405510Z"
    },
    "papermill": {
     "duration": 1.067059,
     "end_time": "2022-09-12T17:02:55.409034",
     "exception": false,
     "start_time": "2022-09-12T17:02:54.341975",
     "status": "completed"
    },
    "tags": []
   },
   "outputs": [
    {
     "data": {
      "image/png": "[encoded data removed]",
      "text/plain": [
       "<Figure size 432x288 with 1 Axes>"
      ]
     },
     "metadata": {
      "needs_background": "light"
     },
     "output_type": "display_data"
    }
   ],
   "source": [
    "sns.histplot(data = train[train['Sex'] == 'male'], x = 'PassengerId', binwidth = 5, hue = 'Survived', kde = True, multiple = 'stack');"
   ]
  },
  {
   "cell_type": "code",
   "execution_count": 23,
   "id": "dbd95778",
   "metadata": {
    "execution": {
     "iopub.execute_input": "2022-09-12T17:02:55.448907Z",
     "iopub.status.busy": "2022-09-12T17:02:55.448444Z",
     "iopub.status.idle": "2022-09-12T17:02:56.591064Z",
     "shell.execute_reply": "2022-09-12T17:02:56.589895Z"
    },
    "papermill": {
     "duration": 1.165771,
     "end_time": "2022-09-12T17:02:56.593667",
     "exception": false,
     "start_time": "2022-09-12T17:02:55.427896",
     "status": "completed"
    },
    "tags": []
   },
   "outputs": [
    {
     "data": {
      "image/png": "[encoded data removed]",
      "text/plain": [
       "<Figure size 432x288 with 1 Axes>"
      ]
     },
     "metadata": {
      "needs_background": "light"
     },
     "output_type": "display_data"
    }
   ],
   "source": [
    "sns.histplot(data = train[train['Sex'] == 'female'], x = 'PassengerId', binwidth = 5, hue = 'Survived', kde = True, multiple = 'stack');"
   ]
  },
  {
   "cell_type": "markdown",
   "id": "5a717699",
   "metadata": {
    "papermill": {
     "duration": 0.021222,
     "end_time": "2022-09-12T17:02:56.634073",
     "exception": false,
     "start_time": "2022-09-12T17:02:56.612851",
     "status": "completed"
    },
    "tags": []
   },
   "source": [
    "There does not seem to be any significant conclusions that can be drawn. Survival rates for both men and women seem to remain relatively constant -- increases in the survival count also lead to a relative increase in the death count for both genders."
   ]
  },
  {
   "cell_type": "code",
   "execution_count": 24,
   "id": "2ce1ad79",
   "metadata": {
    "execution": {
     "iopub.execute_input": "2022-09-12T17:02:56.674956Z",
     "iopub.status.busy": "2022-09-12T17:02:56.673846Z",
     "iopub.status.idle": "2022-09-12T17:02:57.111204Z",
     "shell.execute_reply": "2022-09-12T17:02:57.109673Z"
    },
    "papermill": {
     "duration": 0.460732,
     "end_time": "2022-09-12T17:02:57.114147",
     "exception": false,
     "start_time": "2022-09-12T17:02:56.653415",
     "status": "completed"
    },
    "tags": []
   },
   "outputs": [
    {
     "data": {
      "text/plain": [
       "<AxesSubplot:>"
      ]
     },
     "execution_count": 24,
     "metadata": {},
     "output_type": "execute_result"
    },
    {
     "data": {
      "image/png": "[encoded data removed]",
      "text/plain": [
       "<Figure size 720x504 with 2 Axes>"
      ]
     },
     "metadata": {
      "needs_background": "light"
     },
     "output_type": "display_data"
    }
   ],
   "source": [
    "plt.figure(figsize = (10,7))\n",
    "sns.heatmap(data.drop('Survived',axis = 1).corr(), annot = True, cmap = 'BuPu')"
   ]
  },
  {
   "cell_type": "markdown",
   "id": "5c78457c",
   "metadata": {
    "papermill": {
     "duration": 0.025791,
     "end_time": "2022-09-12T17:02:57.165583",
     "exception": false,
     "start_time": "2022-09-12T17:02:57.139792",
     "status": "completed"
    },
    "tags": []
   },
   "source": [
    "We can see SibSp/Parch share a strong correlation. Because they also share a similar effect on the survival of a passenger, we will be combining these two features into a single feature for travelling with family.\n",
    "\n",
    "No other features showed a strong correlation with one another."
   ]
  },
  {
   "cell_type": "markdown",
   "id": "2b9439c0",
   "metadata": {
    "papermill": {
     "duration": 0.019896,
     "end_time": "2022-09-12T17:02:57.205500",
     "exception": false,
     "start_time": "2022-09-12T17:02:57.185604",
     "status": "completed"
    },
    "tags": []
   },
   "source": [
    "# **FEATURE ENGINEERING**"
   ]
  },
  {
   "cell_type": "markdown",
   "id": "9806071d",
   "metadata": {
    "papermill": {
     "duration": 0.020365,
     "end_time": "2022-09-12T17:02:57.246816",
     "exception": false,
     "start_time": "2022-09-12T17:02:57.226451",
     "status": "completed"
    },
    "tags": []
   },
   "source": [
    "We will be filling in missing `Cabin` entries. As discussed earlier we will be creating a new category for all missing Cabin Features."
   ]
  },
  {
   "cell_type": "code",
   "execution_count": 25,
   "id": "5703100d",
   "metadata": {
    "execution": {
     "iopub.execute_input": "2022-09-12T17:02:57.290271Z",
     "iopub.status.busy": "2022-09-12T17:02:57.289187Z",
     "iopub.status.idle": "2022-09-12T17:02:57.296657Z",
     "shell.execute_reply": "2022-09-12T17:02:57.295874Z"
    },
    "papermill": {
     "duration": 0.031862,
     "end_time": "2022-09-12T17:02:57.299222",
     "exception": false,
     "start_time": "2022-09-12T17:02:57.267360",
     "status": "completed"
    },
    "tags": []
   },
   "outputs": [],
   "source": [
    "train['Cabin']= train['Cabin'].replace(np.NaN, 'M')\n",
    "\n",
    "test['Cabin']= train['Cabin'].replace(np.NaN, 'M')"
   ]
  },
  {
   "cell_type": "markdown",
   "id": "3fcd9ab1",
   "metadata": {
    "papermill": {
     "duration": 0.019315,
     "end_time": "2022-09-12T17:02:57.338081",
     "exception": false,
     "start_time": "2022-09-12T17:02:57.318766",
     "status": "completed"
    },
    "tags": []
   },
   "source": [
    "For `Embarked` we can simply replace the missing values with the mode as there are very few missing points."
   ]
  },
  {
   "cell_type": "code",
   "execution_count": 26,
   "id": "43217028",
   "metadata": {
    "execution": {
     "iopub.execute_input": "2022-09-12T17:02:57.380031Z",
     "iopub.status.busy": "2022-09-12T17:02:57.379615Z",
     "iopub.status.idle": "2022-09-12T17:02:57.386415Z",
     "shell.execute_reply": "2022-09-12T17:02:57.385037Z"
    },
    "papermill": {
     "duration": 0.031424,
     "end_time": "2022-09-12T17:02:57.389005",
     "exception": false,
     "start_time": "2022-09-12T17:02:57.357581",
     "status": "completed"
    },
    "tags": []
   },
   "outputs": [],
   "source": [
    "train['Embarked'] = train['Embarked'].replace(np.NaN, 'S')\n",
    "\n",
    "test['Embarked'] = test['Embarked'].replace(np.NaN, 'S')"
   ]
  },
  {
   "cell_type": "markdown",
   "id": "130ab766",
   "metadata": {
    "papermill": {
     "duration": 0.019446,
     "end_time": "2022-09-12T17:02:57.428303",
     "exception": false,
     "start_time": "2022-09-12T17:02:57.408857",
     "status": "completed"
    },
    "tags": []
   },
   "source": [
    "Similarly, the missing`Fare` value can be replaced by the median."
   ]
  },
  {
   "cell_type": "code",
   "execution_count": 27,
   "id": "cd8b1c7b",
   "metadata": {
    "execution": {
     "iopub.execute_input": "2022-09-12T17:02:57.471331Z",
     "iopub.status.busy": "2022-09-12T17:02:57.470927Z",
     "iopub.status.idle": "2022-09-12T17:02:57.479741Z",
     "shell.execute_reply": "2022-09-12T17:02:57.478632Z"
    },
    "papermill": {
     "duration": 0.033767,
     "end_time": "2022-09-12T17:02:57.482393",
     "exception": false,
     "start_time": "2022-09-12T17:02:57.448626",
     "status": "completed"
    },
    "tags": []
   },
   "outputs": [],
   "source": [
    "train['Fare'] = train['Fare'].replace(np.NaN, data['Fare'].median())\n",
    "test['Fare'] = test['Fare'].replace(np.NaN, data['Fare'].median())"
   ]
  },
  {
   "cell_type": "markdown",
   "id": "0ea3ee9d",
   "metadata": {
    "papermill": {
     "duration": 0.021362,
     "end_time": "2022-09-12T17:02:57.524729",
     "exception": false,
     "start_time": "2022-09-12T17:02:57.503367",
     "status": "completed"
    },
    "tags": []
   },
   "source": [
    "Due to the similarities between `Parch`,`SibSp` and their dependence on one another, we will be combining them into a single feature."
   ]
  },
  {
   "cell_type": "code",
   "execution_count": 28,
   "id": "a51da72d",
   "metadata": {
    "execution": {
     "iopub.execute_input": "2022-09-12T17:02:57.567538Z",
     "iopub.status.busy": "2022-09-12T17:02:57.567160Z",
     "iopub.status.idle": "2022-09-12T17:02:57.575184Z",
     "shell.execute_reply": "2022-09-12T17:02:57.574054Z"
    },
    "papermill": {
     "duration": 0.031822,
     "end_time": "2022-09-12T17:02:57.577557",
     "exception": false,
     "start_time": "2022-09-12T17:02:57.545735",
     "status": "completed"
    },
    "tags": []
   },
   "outputs": [],
   "source": [
    "train['Family'] = train['Parch'] + train['SibSp']\n",
    "\n",
    "test['Family'] = test['Parch'] + test['SibSp']"
   ]
  },
  {
   "cell_type": "code",
   "execution_count": 29,
   "id": "4f0306bf",
   "metadata": {
    "execution": {
     "iopub.execute_input": "2022-09-12T17:02:57.624225Z",
     "iopub.status.busy": "2022-09-12T17:02:57.623746Z",
     "iopub.status.idle": "2022-09-12T17:02:57.685705Z",
     "shell.execute_reply": "2022-09-12T17:02:57.684710Z"
    },
    "papermill": {
     "duration": 0.087102,
     "end_time": "2022-09-12T17:02:57.688296",
     "exception": false,
     "start_time": "2022-09-12T17:02:57.601194",
     "status": "completed"
    },
    "tags": []
   },
   "outputs": [],
   "source": [
    "train['Embarked_Gender'] = train.agg(lambda x: f\"{x['Sex']}_{x['Embarked']}\", axis=1)\n",
    "test['Embarked_Gender'] = test.agg(lambda x: f\"{x['Sex']}_{x['Embarked']}\", axis=1)"
   ]
  },
  {
   "cell_type": "markdown",
   "id": "5c6c234d",
   "metadata": {
    "papermill": {
     "duration": 0.020237,
     "end_time": "2022-09-12T17:02:57.729040",
     "exception": false,
     "start_time": "2022-09-12T17:02:57.708803",
     "status": "completed"
    },
    "tags": []
   },
   "source": [
    "Certain combinations of `Sex` and `Embarked` have unusual results -- one example are males who embarked from C."
   ]
  },
  {
   "cell_type": "markdown",
   "id": "83b0a83d",
   "metadata": {
    "papermill": {
     "duration": 0.019957,
     "end_time": "2022-09-12T17:02:57.769353",
     "exception": false,
     "start_time": "2022-09-12T17:02:57.749396",
     "status": "completed"
    },
    "tags": []
   },
   "source": [
    "`Cabin` and `Name` are categorical features with a seperate category for every variable. This is not very useful. Instead, to deal with `Cabin`, we will create categories for every level of the ship. This will allow us to keep the passengers distance from the ship. For `Name` we will simply take extract the title from the `Name`."
   ]
  },
  {
   "cell_type": "code",
   "execution_count": 30,
   "id": "e7496371",
   "metadata": {
    "execution": {
     "iopub.execute_input": "2022-09-12T17:02:57.810752Z",
     "iopub.status.busy": "2022-09-12T17:02:57.810012Z",
     "iopub.status.idle": "2022-09-12T17:02:57.825043Z",
     "shell.execute_reply": "2022-09-12T17:02:57.824069Z"
    },
    "papermill": {
     "duration": 0.038874,
     "end_time": "2022-09-12T17:02:57.827993",
     "exception": false,
     "start_time": "2022-09-12T17:02:57.789119",
     "status": "completed"
    },
    "tags": []
   },
   "outputs": [],
   "source": [
    "train['Name'] = train['Name'].str.split('.').str[0].str.split().str[-1]\n",
    "train['Cabin'] = train['Cabin'].str[:1]\n",
    "\n",
    "test['Name'] = test['Name'].str.split('.').str[0].str.split().str[-1]\n",
    "test['Cabin'] = test['Cabin'].str[:1]"
   ]
  },
  {
   "cell_type": "code",
   "execution_count": 31,
   "id": "241d4302",
   "metadata": {
    "execution": {
     "iopub.execute_input": "2022-09-12T17:02:57.874066Z",
     "iopub.status.busy": "2022-09-12T17:02:57.873410Z",
     "iopub.status.idle": "2022-09-12T17:02:57.880465Z",
     "shell.execute_reply": "2022-09-12T17:02:57.879579Z"
    },
    "papermill": {
     "duration": 0.032704,
     "end_time": "2022-09-12T17:02:57.882754",
     "exception": false,
     "start_time": "2022-09-12T17:02:57.850050",
     "status": "completed"
    },
    "tags": []
   },
   "outputs": [],
   "source": [
    "label = 'Survived'\n",
    "features = ['Pclass', 'Name', 'Sex', 'Family', 'Fare', 'Cabin', 'Embarked_Gender']\n",
    "train_x = train[features]\n",
    "train_y = train[label]"
   ]
  },
  {
   "cell_type": "markdown",
   "id": "a499ae2b",
   "metadata": {
    "papermill": {
     "duration": 0.019601,
     "end_time": "2022-09-12T17:02:57.922095",
     "exception": false,
     "start_time": "2022-09-12T17:02:57.902494",
     "status": "completed"
    },
    "tags": []
   },
   "source": [
    "These are the features to be used in our model."
   ]
  },
  {
   "cell_type": "markdown",
   "id": "159b3777",
   "metadata": {
    "papermill": {
     "duration": 0.019221,
     "end_time": "2022-09-12T17:02:57.961054",
     "exception": false,
     "start_time": "2022-09-12T17:02:57.941833",
     "status": "completed"
    },
    "tags": []
   },
   "source": [
    "**ENCODING AND KNN FOR AGE**"
   ]
  },
  {
   "cell_type": "code",
   "execution_count": 32,
   "id": "c8b7415f",
   "metadata": {
    "execution": {
     "iopub.execute_input": "2022-09-12T17:02:58.002992Z",
     "iopub.status.busy": "2022-09-12T17:02:58.002239Z",
     "iopub.status.idle": "2022-09-12T17:02:58.025260Z",
     "shell.execute_reply": "2022-09-12T17:02:58.024034Z"
    },
    "papermill": {
     "duration": 0.046972,
     "end_time": "2022-09-12T17:02:58.028084",
     "exception": false,
     "start_time": "2022-09-12T17:02:57.981112",
     "status": "completed"
    },
    "tags": []
   },
   "outputs": [],
   "source": [
    "cat = [col for col in train_x.select_dtypes(include = 'object')]\n",
    "num = [col for col in train_x.select_dtypes(exclude = 'object')]\n",
    "\n",
    "cat_pipe = Pipeline(steps = [('encode', OrdinalEncoder(handle_unknown = 'use_encoded_value',\n",
    "                                                      unknown_value = -99))])\n",
    "num_pipe = Pipeline(steps = [('KNN', KNNImputer(n_neighbors = 5)),\n",
    "                             ('Standardise', StandardScaler())])\n",
    "\n",
    "preprocessing = ColumnTransformer(transformers=[(\"categorical\", cat_pipe, cat),\n",
    "                                                (\"numerical\", num_pipe, num)])\n",
    "x_train_prepared = preprocessing.fit_transform(train_x)"
   ]
  },
  {
   "cell_type": "markdown",
   "id": "9fb4906f",
   "metadata": {
    "papermill": {
     "duration": 0.020376,
     "end_time": "2022-09-12T17:02:58.068402",
     "exception": false,
     "start_time": "2022-09-12T17:02:58.048026",
     "status": "completed"
    },
    "tags": []
   },
   "source": [
    "# **MODEL**"
   ]
  },
  {
   "cell_type": "code",
   "execution_count": 33,
   "id": "3cb80b14",
   "metadata": {
    "execution": {
     "iopub.execute_input": "2022-09-12T17:02:58.110170Z",
     "iopub.status.busy": "2022-09-12T17:02:58.109063Z",
     "iopub.status.idle": "2022-09-12T17:02:58.685936Z",
     "shell.execute_reply": "2022-09-12T17:02:58.684629Z"
    },
    "papermill": {
     "duration": 0.600733,
     "end_time": "2022-09-12T17:02:58.688939",
     "exception": false,
     "start_time": "2022-09-12T17:02:58.088206",
     "status": "completed"
    },
    "tags": []
   },
   "outputs": [
    {
     "name": "stdout",
     "output_type": "stream",
     "text": [
      "Tuned hyperparameters:  {'C': 0.4}\n",
      "Accuracy : 0.8491185073949804\n"
     ]
    }
   ],
   "source": [
    "parameters = [{'C':[.4,.64,.7]},\n",
    "              {'penalty': ['l1'], 'solver': ['liblinear']},\n",
    "              {'penalty': ['l2'], 'solver': ['newton-cg','lbfgs']}]\n",
    "classifier_cv = GridSearchCV(estimator = LogisticRegression(), param_grid = parameters, scoring='roc_auc')\n",
    "\n",
    "classifier_cv.fit(x_train_prepared, train_y)\n",
    "\n",
    "print('Tuned hyperparameters: ', classifier_cv.best_params_)\n",
    "\n",
    "print('Accuracy :', classifier_cv.best_score_)"
   ]
  },
  {
   "cell_type": "code",
   "execution_count": 34,
   "id": "74103783",
   "metadata": {
    "execution": {
     "iopub.execute_input": "2022-09-12T17:02:58.735205Z",
     "iopub.status.busy": "2022-09-12T17:02:58.734672Z",
     "iopub.status.idle": "2022-09-12T17:02:58.768747Z",
     "shell.execute_reply": "2022-09-12T17:02:58.767476Z"
    },
    "papermill": {
     "duration": 0.060319,
     "end_time": "2022-09-12T17:02:58.771677",
     "exception": false,
     "start_time": "2022-09-12T17:02:58.711358",
     "status": "completed"
    },
    "tags": []
   },
   "outputs": [
    {
     "data": {
      "text/html": [
       "<div>\n",
       "<style scoped>\n",
       "    .dataframe tbody tr th:only-of-type {\n",
       "        vertical-align: middle;\n",
       "    }\n",
       "\n",
       "    .dataframe tbody tr th {\n",
       "        vertical-align: top;\n",
       "    }\n",
       "\n",
       "    .dataframe thead th {\n",
       "        text-align: right;\n",
       "    }\n",
       "</style>\n",
       "<table border=\"1\" class=\"dataframe\">\n",
       "  <thead>\n",
       "    <tr style=\"text-align: right;\">\n",
       "      <th></th>\n",
       "      <th>PassengerId</th>\n",
       "      <th>Survived</th>\n",
       "    </tr>\n",
       "  </thead>\n",
       "  <tbody>\n",
       "    <tr>\n",
       "      <th>0</th>\n",
       "      <td>892</td>\n",
       "      <td>0</td>\n",
       "    </tr>\n",
       "    <tr>\n",
       "      <th>1</th>\n",
       "      <td>893</td>\n",
       "      <td>1</td>\n",
       "    </tr>\n",
       "    <tr>\n",
       "      <th>2</th>\n",
       "      <td>894</td>\n",
       "      <td>0</td>\n",
       "    </tr>\n",
       "    <tr>\n",
       "      <th>3</th>\n",
       "      <td>895</td>\n",
       "      <td>0</td>\n",
       "    </tr>\n",
       "    <tr>\n",
       "      <th>4</th>\n",
       "      <td>896</td>\n",
       "      <td>1</td>\n",
       "    </tr>\n",
       "    <tr>\n",
       "      <th>...</th>\n",
       "      <td>...</td>\n",
       "      <td>...</td>\n",
       "    </tr>\n",
       "    <tr>\n",
       "      <th>413</th>\n",
       "      <td>1305</td>\n",
       "      <td>0</td>\n",
       "    </tr>\n",
       "    <tr>\n",
       "      <th>414</th>\n",
       "      <td>1306</td>\n",
       "      <td>1</td>\n",
       "    </tr>\n",
       "    <tr>\n",
       "      <th>415</th>\n",
       "      <td>1307</td>\n",
       "      <td>0</td>\n",
       "    </tr>\n",
       "    <tr>\n",
       "      <th>416</th>\n",
       "      <td>1308</td>\n",
       "      <td>0</td>\n",
       "    </tr>\n",
       "    <tr>\n",
       "      <th>417</th>\n",
       "      <td>1309</td>\n",
       "      <td>0</td>\n",
       "    </tr>\n",
       "  </tbody>\n",
       "</table>\n",
       "<p>418 rows × 2 columns</p>\n",
       "</div>"
      ],
      "text/plain": [
       "     PassengerId  Survived\n",
       "0            892         0\n",
       "1            893         1\n",
       "2            894         0\n",
       "3            895         0\n",
       "4            896         1\n",
       "..           ...       ...\n",
       "413         1305         0\n",
       "414         1306         1\n",
       "415         1307         0\n",
       "416         1308         0\n",
       "417         1309         0\n",
       "\n",
       "[418 rows x 2 columns]"
      ]
     },
     "execution_count": 34,
     "metadata": {},
     "output_type": "execute_result"
    }
   ],
   "source": [
    "test_prepared = preprocessing.fit_transform(test)\n",
    "predictions = classifier_cv.predict(test_prepared)\n",
    "submission = pd.read_csv(\"../input/titanic/gender_submission.csv\")\n",
    "submission['Survived'] = predictions\n",
    "submission"
   ]
  },
  {
   "cell_type": "code",
   "execution_count": 35,
   "id": "536c5817",
   "metadata": {
    "execution": {
     "iopub.execute_input": "2022-09-12T17:02:58.818177Z",
     "iopub.status.busy": "2022-09-12T17:02:58.817785Z",
     "iopub.status.idle": "2022-09-12T17:02:58.826738Z",
     "shell.execute_reply": "2022-09-12T17:02:58.825842Z"
    },
    "papermill": {
     "duration": 0.034635,
     "end_time": "2022-09-12T17:02:58.829098",
     "exception": false,
     "start_time": "2022-09-12T17:02:58.794463",
     "status": "completed"
    },
    "tags": []
   },
   "outputs": [],
   "source": [
    "submission.to_csv(\"submission.csv\", index=False)"
   ]
  }
 ],
 "metadata": {
  "kernelspec": {
   "display_name": "Python 3",
   "language": "python",
   "name": "python3"
  },
  "language_info": {
   "codemirror_mode": {
    "name": "ipython",
    "version": 3
   },
   "file_extension": ".py",
   "mimetype": "text/x-python",
   "name": "python",
   "nbconvert_exporter": "python",
   "pygments_lexer": "ipython3",
   "version": "3.7.12"
  },
  "papermill": {
   "default_parameters": {},
   "duration": 23.502478,
   "end_time": "2022-09-12T17:02:59.674417",
   "environment_variables": {},
   "exception": null,
   "input_path": "__notebook__.ipynb",
   "output_path": "__notebook__.ipynb",
   "parameters": {},
   "start_time": "2022-09-12T17:02:36.171939",
   "version": "2.3.4"
  }
 },
 "nbformat": 4,
 "nbformat_minor": 5
}
